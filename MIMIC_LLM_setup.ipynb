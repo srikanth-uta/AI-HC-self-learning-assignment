{
 "cells": [
  {
   "cell_type": "code",
   "execution_count": 2,
   "id": "324634ea",
   "metadata": {},
   "outputs": [],
   "source": [
    "import pandas as pd\n",
    "import seaborn as sns\n",
    "import matplotlib.pyplot as plt"
   ]
  },
  {
   "cell_type": "code",
   "execution_count": 3,
   "id": "5002cafa",
   "metadata": {},
   "outputs": [
    {
     "name": "stdout",
     "output_type": "stream",
     "text": [
      "   ROW_ID ICD9_CODE               SHORT_TITLE  \\\n",
      "0     174     01166     TB pneumonia-oth test   \n",
      "1     175     01170    TB pneumothorax-unspec   \n",
      "2     176     01171   TB pneumothorax-no exam   \n",
      "3     177     01172  TB pneumothorx-exam unkn   \n",
      "4     178     01173  TB pneumothorax-micro dx   \n",
      "\n",
      "                                          LONG_TITLE  \n",
      "0  Tuberculous pneumonia [any form], tubercle bac...  \n",
      "1              Tuberculous pneumothorax, unspecified  \n",
      "2  Tuberculous pneumothorax, bacteriological or h...  \n",
      "3  Tuberculous pneumothorax, bacteriological or h...  \n",
      "4  Tuberculous pneumothorax, tubercle bacilli fou...  \n"
     ]
    }
   ],
   "source": [
    "diagnoses_labels = pd.read_csv('../MIMIC_3_data/D_ICD_DIAGNOSES.csv.gz', compression='gzip')\n",
    "\n",
    "print(diagnoses_labels.head())"
   ]
  },
  {
   "cell_type": "code",
   "execution_count": 4,
   "id": "7ca0829c",
   "metadata": {},
   "outputs": [
    {
     "name": "stderr",
     "output_type": "stream",
     "text": [
      "/var/folders/zs/jy0gg9bn0xs_yj8lgyvwt_ww0000gn/T/ipykernel_40111/3036761828.py:1: DtypeWarning: Columns (4,5) have mixed types. Specify dtype option on import or set low_memory=False.\n",
      "  clinical_notes = pd.read_csv('../MIMIC_3_data/NOTEEVENTS.csv.gz', compression='gzip')\n"
     ]
    },
    {
     "name": "stdout",
     "output_type": "stream",
     "text": [
      "   ROW_ID  SUBJECT_ID   HADM_ID   CHARTDATE CHARTTIME STORETIME  \\\n",
      "0     174       22532  167853.0  2151-08-04       NaN       NaN   \n",
      "1     175       13702  107527.0  2118-06-14       NaN       NaN   \n",
      "2     176       13702  167118.0  2119-05-25       NaN       NaN   \n",
      "3     177       13702  196489.0  2124-08-18       NaN       NaN   \n",
      "4     178       26880  135453.0  2162-03-25       NaN       NaN   \n",
      "\n",
      "            CATEGORY DESCRIPTION  CGID  ISERROR  \\\n",
      "0  Discharge summary      Report   NaN      NaN   \n",
      "1  Discharge summary      Report   NaN      NaN   \n",
      "2  Discharge summary      Report   NaN      NaN   \n",
      "3  Discharge summary      Report   NaN      NaN   \n",
      "4  Discharge summary      Report   NaN      NaN   \n",
      "\n",
      "                                                TEXT  \n",
      "0  Admission Date:  [**2151-7-16**]       Dischar...  \n",
      "1  Admission Date:  [**2118-6-2**]       Discharg...  \n",
      "2  Admission Date:  [**2119-5-4**]              D...  \n",
      "3  Admission Date:  [**2124-7-21**]              ...  \n",
      "4  Admission Date:  [**2162-3-3**]              D...  \n"
     ]
    }
   ],
   "source": [
    "clinical_notes = pd.read_csv('../MIMIC_3_data/NOTEEVENTS.csv.gz', compression='gzip')\n",
    "\n",
    "print(clinical_notes.head())"
   ]
  },
  {
   "cell_type": "code",
   "execution_count": 5,
   "id": "7953fa11",
   "metadata": {},
   "outputs": [
    {
     "name": "stdout",
     "output_type": "stream",
     "text": [
      "   ROW_ID  SUBJECT_ID   HADM_ID   CHARTDATE CHARTTIME STORETIME  \\\n",
      "0     174       22532  167853.0  2151-08-04       NaN       NaN   \n",
      "1     175       13702  107527.0  2118-06-14       NaN       NaN   \n",
      "2     176       13702  167118.0  2119-05-25       NaN       NaN   \n",
      "3     177       13702  196489.0  2124-08-18       NaN       NaN   \n",
      "4     178       26880  135453.0  2162-03-25       NaN       NaN   \n",
      "\n",
      "            CATEGORY DESCRIPTION  CGID  ISERROR  \\\n",
      "0  Discharge summary      Report   NaN      NaN   \n",
      "1  Discharge summary      Report   NaN      NaN   \n",
      "2  Discharge summary      Report   NaN      NaN   \n",
      "3  Discharge summary      Report   NaN      NaN   \n",
      "4  Discharge summary      Report   NaN      NaN   \n",
      "\n",
      "                                                TEXT  \n",
      "0  Admission Date:  [**2151-7-16**]       Dischar...  \n",
      "1  Admission Date:  [**2118-6-2**]       Discharg...  \n",
      "2  Admission Date:  [**2119-5-4**]              D...  \n",
      "3  Admission Date:  [**2124-7-21**]              ...  \n",
      "4  Admission Date:  [**2162-3-3**]              D...  \n"
     ]
    }
   ],
   "source": [
    "# filter for discharge summaries\n",
    "discharge_summaries = clinical_notes[clinical_notes['CATEGORY'] == 'Discharge summary']\n",
    "print(discharge_summaries.head())\n"
   ]
  },
  {
   "cell_type": "code",
   "execution_count": 6,
   "id": "983afc2b",
   "metadata": {},
   "outputs": [
    {
     "name": "stdout",
     "output_type": "stream",
     "text": [
      "   ROW_ID  SUBJECT_ID  HADM_ID  SEQ_NUM ICD9_CODE\n",
      "0    1297         109   172335      1.0     40301\n",
      "1    1298         109   172335      2.0       486\n",
      "2    1299         109   172335      3.0     58281\n",
      "3    1300         109   172335      4.0      5855\n",
      "4    1301         109   172335      5.0      4254\n"
     ]
    }
   ],
   "source": [
    "\n",
    "diagnoses_icd9 = pd.read_csv('../MIMIC_3_data/DIAGNOSES_ICD.csv.gz', compression='gzip')\n",
    "print(diagnoses_icd9.head())"
   ]
  },
  {
   "cell_type": "code",
   "execution_count": 7,
   "id": "661b78ed",
   "metadata": {},
   "outputs": [
    {
     "name": "stdout",
     "output_type": "stream",
     "text": [
      "   ROW_ID  SUBJECT_ID  HADM_ID         TRANSFERTIME PREV_SERVICE CURR_SERVICE\n",
      "0     758         471   135879  2122-07-22 14:07:27        TSURG          MED\n",
      "1     759         471   135879  2122-07-26 18:31:49          MED        TSURG\n",
      "2     760         472   173064  2172-09-28 19:22:15          NaN         CMED\n",
      "3     761         473   129194  2201-01-09 20:16:45          NaN           NB\n",
      "4     762         474   194246  2181-03-23 08:24:41          NaN           NB\n",
      "   ROW_ID  SUBJECT_ID  HADM_ID  SEQ_NUM  ICD9_CODE\n",
      "0     944       62641   154460        3       3404\n",
      "1     945        2592   130856        1       9671\n",
      "2     946        2592   130856        2       3893\n",
      "3     947       55357   119355        1       9672\n",
      "4     948       55357   119355        2        331\n"
     ]
    }
   ],
   "source": [
    "services_data = pd.read_csv('../MIMIC_3_data/SERVICES.csv.gz', compression='gzip')\n",
    "print(services_data.head())\n",
    "\n",
    "# procedure codes\n",
    "procedure_codes = pd.read_csv('../MIMIC_3_data/PROCEDURES_ICD.csv.gz', compression='gzip')\n",
    "print(procedure_codes.head())"
   ]
  },
  {
   "cell_type": "code",
   "execution_count": 8,
   "id": "c3cb8c3b",
   "metadata": {},
   "outputs": [
    {
     "name": "stdout",
     "output_type": "stream",
     "text": [
      "   ROW_ID_x  SUBJECT_ID  HADM_ID  SEQ_NUM ICD9_CODE  ROW_ID_y  \\\n",
      "0      1297         109   172335      1.0     40301    4312.0   \n",
      "1      1298         109   172335      2.0       486    5528.0   \n",
      "2      1299         109   172335      3.0     58281    5892.0   \n",
      "3      1300         109   172335      4.0      5855    5913.0   \n",
      "4      1301         109   172335      5.0      4254    4435.0   \n",
      "\n",
      "                SHORT_TITLE                                         LONG_TITLE  \n",
      "0    Mal hyp kid w cr kid V  Hypertensive chronic kidney disease, malignant...  \n",
      "1   Pneumonia, organism NOS                    Pneumonia, organism unspecified  \n",
      "2  Chr nephritis in oth dis  Chronic glomerulonephritis in diseases classif...  \n",
      "3  Chron kidney dis stage V                    Chronic kidney disease, Stage V  \n",
      "4   Prim cardiomyopathy NEC                     Other primary cardiomyopathies  \n",
      "Number of unique ICD-9 codes: 6984\n"
     ]
    }
   ],
   "source": [
    "# merge diagnoses with labels to get full disease names\n",
    "diagnoses_merged = diagnoses_icd9.merge(diagnoses_labels, left_on='ICD9_CODE', right_on='ICD9_CODE', how='left')\n",
    "\n",
    "print(diagnoses_merged.head())\n",
    "\n",
    "# length of unique ICD-9 codes\n",
    "unique_icd9_codes = diagnoses_merged['ICD9_CODE'].nunique()\n",
    "print(f'Number of unique ICD-9 codes: {unique_icd9_codes}')\n"
   ]
  },
  {
   "cell_type": "code",
   "execution_count": 9,
   "id": "700d836d",
   "metadata": {},
   "outputs": [
    {
     "name": "stdout",
     "output_type": "stream",
     "text": [
      "nerves: ['9518', '9579', '9570', '2251', '1920', '9578', '3529', '9558']\n",
      "kidney: ['40301', '5855', '28521', '5845', '5849', '5854', '40390', '1890', '5859', '40391', '5853', '5939', '58089', 'E8791', 'V1052', 'V4573', '5920', '40492', '99681', '40311', '5829', '86612', '59381', '58389', 'V420', '7533', '40310', '86602', '5932', '75312', '5852', '40300', '86600', '5839', '44581', '59389', '1980', '75310', '5819', '5848', '2230', '23691', '75319', '5846', '5809', '40491', '40493', '86610', '75313', '40403', '86601', '40401', '86611', '58189', '66932', '86603', 'E8702', '7944', 'V1869', '58289', '40413', '5909', '5847', '5851', '40490', 'V1651', '86613', '75317', '40400', '66934', 'E8742', '40411', '5931', '5890', '75314']\n",
      "bladder: ['57410', '5964', 'V1051', '5960', '57420', '8670', '57400', '57421', '57490', '57491', '57471', '5759', '57460', '5758', '34461', '1882', '8671', '1560', '5755', '59654', '57401', '5967', '57461', '1888', 'V435', '57481', '57470', '5753', '7535', '1880', '7536', '34460', '78821', '1889', '86802', '7538', '57411', '5754', '75169', '5969', '86812', '2337', '5966', '59659', '1568', '5963', '5941', '57480', '5756', '59651', '9390', '2367', '75160', '5940', '2394', '1885', '1884', '1883', '1881', '59689', '5752', 'V1652']\n",
      "blood vessels: ['9032', '9033', '9046', '9047', '90082', '90287', '90289', '9035', '9031', '9038', '90089']\n",
      "skin: ['22801', '7820', 'V1083', '7099', '7821', '1982', 'V1082', '8700', '1123', '7019', '7098', '94536', '75733', '75739', '2167', '1725', '5305', '1729', '7092', '2165', '2329', '33385', '2382', '33382', '6869', '1720', '7018', '4559', '2141', '2164', '7093', '94534', '1724', '1760', '94532', '1728', 'E8587', '2169', '1723', '2166', '7828', '1726', '94332', '94234', '2325', '2163', '1727', '6923', '6861', '2392', '6192', '79551', '17322', '17372', '6868', '94335', '7094', '94232', '17342', '17332', '17331', '2326', '2140', '17341']\n",
      "heart: ['4280', '42833', '99671', '4168', '74689', '42820', '39891', '4148', 'V433', '86113', '99602', '4281', '42822', 'V173', '42841', '42821', 'V422', '42831', '76383', '42823', '42830', '42840', '40492', '39890', '42832', '4169', '4299', '42843', '41189', '41410', '40291', 'V151', '2127', '86101', '42989', 'E8706', '40290', '86100', '3918', '40201', '76382', '42842', '7467', '7469', '4266', '74686', '40491', '40493', '4289', '40403', '41419', '74684', '65971', '40401', '390', '74687', '86103', 'V421', '1641', '99683', '86102', '86112', '40413', '76381', '40490', '4149', '7871', '0860', '40200', '40400', 'E8716', '86110', 'V1365', '40210', '39899', '40411', '40211']\n",
      "eyes: ['3693', '36900']\n",
      "muscles: ['E8586', '9753', 'E9453']\n",
      "throat: ['7841', '0340', '9766', '7848', 'E9466']\n",
      "intestines: ['2352', 'V4284', '01485']\n",
      "lungs: []\n",
      "pancreas: ['1570', '5778', '5772', 'V4283', '99686', '5779', '1578', '1571', '2116', '86381', '1572', '1579', 'V8812', '7517', '86393', '86384', '86394', '86383', 'V8811']\n",
      "bones: ['80416', '8024', '8021', '8028', '1700', '8020', '80422', '80435', '1373', '8025', '7560', '8029', '82529', '9050', '80421', '80425', '80426', '80475', '80485', '1707', '8170', '80423', '9055', '2130', '80400', '80412', '80473', '75444', '80476', '80466', '80420', '80441', '80470', '80432', '80430', '80410', '80436', '2137', '8171', '82539']\n",
      "reproductive organs: []\n",
      "liver: ['1977', 'V3001', '5715', '570', '5712', 'V3000', 'V3101', '7742', '86402', '5720', '5728', 'V3401', '1550', '99682', 'V1007', '1552', 'V427', '86401', 'V3100', '5718', '5739', '86405', '7630', '5738', '66632', '66612', '64822', '2115', '86415', 'V3201', '5730', '86409', '7683', '7948', '5710', '64271', '64862', '64421', '65421', '64891', 'V270', '66551', '66582', '67432', '76384', '5713', '86404', '86400', '7636', '64781', '65641', '64131', '64821', '5719', 'V596', '64111', '66911', '75162', '75169', '65423', '64861', '64761', '64201', '64621', '64881', '66942', '67482', '64842', '65951', '66921', '64251', '67402', '65261', '66331', '65651', '65801', '65961', 'V272', '67451', '86412', '86403', '7631', '65971', '64121', '65451', '66602', '66941', '7633', '66932', '64292', '65441', '64682', '86413', '76389', '66401', '2353', '64511', '64801', '86414', '66111', '64782', 'V3200', '86419', '64661', '65671', '66511', '65221', '67311', '66811', '7634', '64831', '75160', '67002', '64231', '86411', '2308', '64261', '64841', '65821', '66021', '65411', '67202', '64241', '66934', '65101', '64892', '67412', '66622', '66561', '65571', '65661', '65921', '64681', '66914', '20972', '1228', '66411', '64852', '64811', '67401', '66001', '65251', '66822', '64673', '64931', 'V271', '66131', '66531', '66541', '64671', '64252', '65701', '64101', '67012']\n",
      "ears: ['86502', '86512', 'V7219']\n",
      "stomach: ['53789', '53782', '53783', '53784', 'V1004', '2352', '5368', '5379', 'V4575', '1518', '5374', '2111', '8630', '1519', '1514', '1513', '8631', '9352', '2302', '5361', '1515', '1516', '5369', '20963']\n",
      "brain: ['1919', '3484', '3481', '1983', '1917', '85142', '79400', 'V1085', '3489', '34889', '2250', '7424', '3109', '2375', '85144', '1918', '7422', '7429', '85146', '85141', '85140', '2396', 'V1241', '79409', '01325', '85145', '85175', 'V1552', '85173', '85162', '34882', '01330', '85150', 'V5302']\n"
     ]
    }
   ],
   "source": [
    "# create organ name mapping based on ICD-9 code prefixes\n",
    "\n",
    "# list all the organs and based on that go through the ICD-9 codes and create mapping for each organ the list of \n",
    "# ICD codes that correspond to that organ\n",
    "\n",
    "organs =  {\n",
    "    'heart',\n",
    "    'lungs',\n",
    "    'liver',\n",
    "    'kidney',\n",
    "    'brain',\n",
    "    'stomach',\n",
    "    'intestines',\n",
    "    'pancreas',\n",
    "    'bladder',\n",
    "    'skin',\n",
    "    'bones',\n",
    "    'muscles',\n",
    "    'blood vessels',\n",
    "    'nerves',\n",
    "    'eyes',\n",
    "    'ears',\n",
    "    'throat',\n",
    "    'reproductive organs'\n",
    "}\n",
    "\n",
    "# loop through the diagnoses_merged and create a mapping of ICD-9 code prefixes to organ names\n",
    "# organd mapping should have keys as organs and values as list of ICD-9 code prefixes\n",
    "organ_mapping = {organ: [] for organ in organs}\n",
    "\n",
    "for index, row in diagnoses_merged.iterrows():\n",
    "    # make safe string conversions to avoid errors from NaN or non-string values\n",
    "    icd_code = str(row.get('ICD9_CODE', ''))\n",
    "    long_title = row.get('LONG_TITLE', '')\n",
    "    if pd.isna(long_title):\n",
    "        long_title = ''\n",
    "    long_title = str(long_title).lower()\n",
    "\n",
    "    for organ in organs:\n",
    "        if organ in long_title:\n",
    "            prefix = icd_code\n",
    "            if prefix not in organ_mapping[organ]:\n",
    "                organ_mapping[organ].append(prefix)\n",
    "            \n",
    "# print the organ mapping\n",
    "for organ, prefixes in organ_mapping.items():\n",
    "    print(f'{organ}: {prefixes}')\n",
    "\n",
    "\n"
   ]
  },
  {
   "cell_type": "code",
   "execution_count": 10,
   "id": "acad42a5",
   "metadata": {},
   "outputs": [
    {
     "name": "stdout",
     "output_type": "stream",
     "text": [
      "0    167853.0\n",
      "1    107527.0\n",
      "2    167118.0\n",
      "3    196489.0\n",
      "4    135453.0\n",
      "Name: HADM_ID, dtype: float64\n"
     ]
    },
    {
     "name": "stderr",
     "output_type": "stream",
     "text": [
      "/var/folders/zs/jy0gg9bn0xs_yj8lgyvwt_ww0000gn/T/ipykernel_40111/3777512565.py:8: SettingWithCopyWarning: \n",
      "A value is trying to be set on a copy of a slice from a DataFrame.\n",
      "Try using .loc[row_indexer,col_indexer] = value instead\n",
      "\n",
      "See the caveats in the documentation: https://pandas.pydata.org/pandas-docs/stable/user_guide/indexing.html#returning-a-view-versus-a-copy\n",
      "  discharge_summaries['ICD9_CODES'] = discharge_summaries['HADM_ID'].map(\n"
     ]
    },
    {
     "name": "stdout",
     "output_type": "stream",
     "text": [
      "    HADM_ID                                         ICD9_CODES\n",
      "0  167853.0  [01193, 4254, 42731, 2639, 2762, 5070, 5119, 2...\n",
      "1  107527.0         [5191, 49121, 51881, 486, 2761, 2449, 311]\n",
      "2  167118.0               [5191, 5185, 496, 2762, 45340, 5533]\n",
      "3  196489.0  [51884, 5849, 34830, 49121, 2760, 4160, 3594, ...\n",
      "4  135453.0  [80506, 5070, 42823, 2930, 4538, E882, 4280, 4...\n",
      "    HADM_ID PREDICTED_ORGANS\n",
      "0  167853.0               []\n",
      "1  107527.0               []\n",
      "2  167118.0               []\n",
      "3  196489.0         [kidney]\n",
      "4  135453.0   [bones, heart]\n"
     ]
    },
    {
     "name": "stderr",
     "output_type": "stream",
     "text": [
      "/var/folders/zs/jy0gg9bn0xs_yj8lgyvwt_ww0000gn/T/ipykernel_40111/3777512565.py:22: SettingWithCopyWarning: \n",
      "A value is trying to be set on a copy of a slice from a DataFrame.\n",
      "Try using .loc[row_indexer,col_indexer] = value instead\n",
      "\n",
      "See the caveats in the documentation: https://pandas.pydata.org/pandas-docs/stable/user_guide/indexing.html#returning-a-view-versus-a-copy\n",
      "  discharge_summaries['PREDICTED_ORGANS'] = discharge_summaries['ICD9_CODES'].apply(predict_organs)\n"
     ]
    }
   ],
   "source": [
    "# use notes for context and predict organ based on ICD-9 codes\n",
    "# for each discharge summary, get the corresponding ICD-9 codes from diagnoses_merged\n",
    "# then use the organ mapping to predict which organs are involved based on the ICD-9 codes\n",
    "\n",
    "# what is HADM_ID in discharge_summaries\n",
    "print(discharge_summaries['HADM_ID'].head())\n",
    "\n",
    "discharge_summaries['ICD9_CODES'] = discharge_summaries['HADM_ID'].map(\n",
    "    lambda hadm_id: diagnoses_merged[diagnoses_merged['HADM_ID'] == hadm_id]['ICD9_CODE'].tolist()\n",
    ")\n",
    "print(discharge_summaries[['HADM_ID', 'ICD9_CODES']].head())\n",
    "\n",
    "# predict organs based on ICD-9 codes\n",
    "def predict_organs(icd9_codes):\n",
    "    involved_organs = set()\n",
    "    for code in icd9_codes:\n",
    "        for organ, prefixes in organ_mapping.items():\n",
    "            if code in prefixes:\n",
    "                involved_organs.add(organ)\n",
    "    return list(involved_organs)\n",
    "\n",
    "discharge_summaries['PREDICTED_ORGANS'] = discharge_summaries['ICD9_CODES'].apply(predict_organs)\n",
    "print(discharge_summaries[['HADM_ID', 'PREDICTED_ORGANS']].head())"
   ]
  },
  {
   "cell_type": "code",
   "execution_count": 11,
   "id": "2f19caa4",
   "metadata": {},
   "outputs": [
    {
     "name": "stdout",
     "output_type": "stream",
     "text": [
      "Training examples CSV files already exist. Skipping creation.\n",
      "JSONL files already exist. Skipping creation.\n"
     ]
    }
   ],
   "source": [
    "# Create training data for LLM\n",
    "# Format: Input (question/prompt) -> Output (answer with diseases)\n",
    "\n",
    "import numpy as np\n",
    "from sklearn.model_selection import train_test_split\n",
    "\n",
    "# Step 1: Create dataset with organ-disease pairs\n",
    "training_data = []\n",
    "\n",
    "def create_training_examples():\n",
    "    for _, row in discharge_summaries.iterrows():\n",
    "        organs = row['PREDICTED_ORGANS']\n",
    "        icd_codes = row['ICD9_CODES']\n",
    "        clinical_note = row.get('TEXT', '')[:500]  # Use first 500 characters of the note as context\n",
    "        \n",
    "        # Skip if no organs or ICD codes\n",
    "        if not organs or not icd_codes:\n",
    "            continue\n",
    "        \n",
    "        # Get disease names for the ICD codes\n",
    "        diseases = diagnoses_merged[diagnoses_merged['ICD9_CODE'].isin(icd_codes)]['LONG_TITLE'].unique()\n",
    "        \n",
    "        # filter out NaN (floats) and empty strings, convert to clean strings\n",
    "        disease_list = [str(d).strip() for d in diseases if pd.notna(d) and str(d).strip() != '']\n",
    "        if len(disease_list) == 0:\n",
    "            continue\n",
    "        \n",
    "        # Create training examples for each organ\n",
    "        for organ in organs:\n",
    "            # Format 1: Question-Answer format\n",
    "            question = f\"What diseases can affect the {organ}?\"\n",
    "            answer = \", \".join(disease_list[:10])  # Limit to top 10 diseases\n",
    "            \n",
    "            training_data.append({\n",
    "                'input': question,\n",
    "                'output': answer,\n",
    "                'organ': organ,\n",
    "                'icd_codes': icd_codes,\n",
    "                'hadm_id': row['HADM_ID']\n",
    "            })\n",
    "            \n",
    "            # Format 2: Instruction format (for instruction-tuned models)\n",
    "            instruction = f\"List common diseases that affect the {organ} based on clinical data.\"\n",
    "            training_data.append({\n",
    "                'input': instruction,\n",
    "                'output': answer,\n",
    "                'organ': organ,\n",
    "                'icd_codes': icd_codes,\n",
    "                'hadm_id': row['HADM_ID']\n",
    "            })\n",
    "\n",
    "            # Format 3: Contextual format (for models that use context)\n",
    "            context_prompt = f\"Given the clinical note: '{clinical_note}...', what diseases might affect the {organ}?\"\n",
    "            training_data.append({\n",
    "                'input': context_prompt,\n",
    "                'output': answer,\n",
    "                'organ': organ,\n",
    "                'icd_codes': icd_codes,\n",
    "                'hadm_id': row['HADM_ID']\n",
    "            })\n",
    "\n",
    "# if csv already exists, skip creation and set variables from csv\n",
    "import os\n",
    "if not os.path.exists('train_organ_diseases.csv') or not os.path.exists('val_organ_diseases.csv'):\n",
    "    print(\"Creating training examples...\")\n",
    "    create_training_examples()\n",
    "    print(f\"Total training examples created: {len(training_data)}\")\n",
    "    # Convert to DataFrame\n",
    "    training_df = pd.DataFrame(training_data)\n",
    "    print(f\"Total training examples: {len(training_df)}\")\n",
    "    print(training_df.head())\n",
    "\n",
    "    # Step 2: Split into train and validation sets (80-20 split)\n",
    "    train_df, val_df = train_test_split(training_df, test_size=0.2, random_state=42, stratify=training_df['organ'])\n",
    "\n",
    "    print(f\"\\nTraining set size: {len(train_df)}\")\n",
    "    print(f\"Validation set size: {len(val_df)}\")\n",
    "\n",
    "    # Step 3: Save to files for LLM training\n",
    "    train_df.to_csv('train_organ_diseases.csv', index=False)\n",
    "    val_df.to_csv('val_organ_diseases.csv', index=False)\n",
    "\n",
    "else :\n",
    "    print(\"Training examples CSV files already exist. Skipping creation.\")\n",
    "    train_df = pd.read_csv('train_organ_diseases.csv')\n",
    "    val_df = pd.read_csv('val_organ_diseases.csv')\n",
    "\n",
    "\n",
    "# Step 4: Create JSONL format (common for LLM fine-tuning)\n",
    "\n",
    "# If json already exists, skip creation\n",
    "if os.path.exists('train_organ_diseases.jsonl') and os.path.exists('val_organ_diseases.jsonl'):\n",
    "    print(\"JSONL files already exist. Skipping creation.\")\n",
    "else:\n",
    "    print(\"Creating JSONL files...\")\n",
    "    import json\n",
    "    def create_jsonl(df, filename):\n",
    "        with open(filename, 'w') as f:\n",
    "            for _, row in df.iterrows():\n",
    "                json_obj = {\n",
    "                    'prompt': row['input'],\n",
    "                    'completion': row['output'],\n",
    "                    'metadata': {\n",
    "                        'organ': row['organ'],\n",
    "                        'hadm_id': row['hadm_id']\n",
    "                    }\n",
    "                }\n",
    "                f.write(json.dumps(json_obj) + '\\n')\n",
    "\n",
    "    create_jsonl(train_df, 'train_organ_diseases.jsonl')\n",
    "    create_jsonl(val_df, 'val_organ_diseases.jsonl')\n",
    "    print(\"\\nTraining data saved to:\")\n",
    "    print(\"- train_organ_diseases.csv / .jsonl\")\n",
    "    print(\"- val_organ_diseases.csv / .jsonl\")"
   ]
  }
 ],
 "metadata": {
  "kernelspec": {
   "display_name": "base",
   "language": "python",
   "name": "python3"
  },
  "language_info": {
   "codemirror_mode": {
    "name": "ipython",
    "version": 3
   },
   "file_extension": ".py",
   "mimetype": "text/x-python",
   "name": "python",
   "nbconvert_exporter": "python",
   "pygments_lexer": "ipython3",
   "version": "3.13.2"
  }
 },
 "nbformat": 4,
 "nbformat_minor": 5
}
